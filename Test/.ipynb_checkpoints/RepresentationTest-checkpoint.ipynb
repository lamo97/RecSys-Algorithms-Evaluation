{
 "cells": [
  {
   "cell_type": "code",
   "execution_count": 2,
   "id": "ddd75b5a",
   "metadata": {},
   "outputs": [
    {
     "name": "stderr",
     "output_type": "stream",
     "text": [
      "[nltk_data] Downloading package punkt to\n",
      "[nltk_data]     C:\\Users\\glamo\\AppData\\Roaming\\nltk_data...\n",
      "[nltk_data]   Package punkt is already up-to-date!\n"
     ]
    }
   ],
   "source": [
    "import pandas as pd\n",
    "import csv\n",
    "import re\n",
    "\n",
    "# correzione dell'ordine di stampa\n",
    "import functools\n",
    "from operator import rshift\n",
    "print = functools.partial(print, flush=True)\n",
    "\n",
    "# import dei moduli per Content Analyzer, Recommender System e Evaluation come librerie\n",
    "from clayrs import content_analyzer as ca\n",
    "from clayrs import recsys as rs\n",
    "from clayrs import evaluation as eva"
   ]
  },
  {
   "cell_type": "code",
   "execution_count": 2,
   "id": "735e55f0",
   "metadata": {
    "scrolled": false
   },
   "outputs": [],
   "source": [
    "# elaborazione del file .dat relativo agli items\n",
    "path = 'C:/Users/glamo/Desktop/Repository/RecSys-Algorithms-Evaluation/Dataset/'\n",
    "\n",
    "moviesCsv = open(path + 'movies.csv', 'w')\n",
    "moviesCsv.write(\"id,title,year,genres\\n\")\n",
    "\n",
    "with open(path + 'movies.dat', 'r') as moviesDat:\n",
    "    for entry in moviesDat:\n",
    "        entry = entry.split(\"::\")\n",
    "        moviesCsv.write(entry[0] + ',')\n",
    "        year = re.findall('\\d\\d\\d\\d', entry[1])\n",
    "        moviesCsv.write('\"' + re.split(' \\(\\d\\d\\d\\d\\)', entry[1])[0] + '\"' + ',')\n",
    "        moviesCsv.write(year[0] + ',')\n",
    "        entry[2] = re.sub('\\|', ',', entry[2])\n",
    "        entry[2] = re.sub('\\n', '', entry[2])\n",
    "        moviesCsv.write('\"' + entry[2] + '\"' + '\\n')\n",
    "        \n",
    "moviesDat.close()"
   ]
  },
  {
   "cell_type": "code",
   "execution_count": 3,
   "id": "4d394581",
   "metadata": {},
   "outputs": [
    {
     "ename": "NameError",
     "evalue": "name 'path' is not defined",
     "output_type": "error",
     "traceback": [
      "\u001b[1;31m---------------------------------------------------------------------------\u001b[0m",
      "\u001b[1;31mNameError\u001b[0m                                 Traceback (most recent call last)",
      "Input \u001b[1;32mIn [3]\u001b[0m, in \u001b[0;36m<cell line: 2>\u001b[1;34m()\u001b[0m\n\u001b[0;32m      1\u001b[0m \u001b[38;5;66;03m# elaborazione del file .dat relativo agli utenti\u001b[39;00m\n\u001b[1;32m----> 2\u001b[0m usersCsv \u001b[38;5;241m=\u001b[39m \u001b[38;5;28mopen\u001b[39m(\u001b[43mpath\u001b[49m \u001b[38;5;241m+\u001b[39m \u001b[38;5;124m'\u001b[39m\u001b[38;5;124musers.csv\u001b[39m\u001b[38;5;124m'\u001b[39m, \u001b[38;5;124m'\u001b[39m\u001b[38;5;124mw\u001b[39m\u001b[38;5;124m'\u001b[39m)\n\u001b[0;32m      3\u001b[0m usersCsv\u001b[38;5;241m.\u001b[39mwrite(\u001b[38;5;124m'\u001b[39m\u001b[38;5;124muser_id,gender,age,occupation,zip_code\u001b[39m\u001b[38;5;130;01m\\n\u001b[39;00m\u001b[38;5;124m'\u001b[39m)\n\u001b[0;32m      5\u001b[0m \u001b[38;5;28;01mwith\u001b[39;00m \u001b[38;5;28mopen\u001b[39m(path \u001b[38;5;241m+\u001b[39m \u001b[38;5;124m'\u001b[39m\u001b[38;5;124musers.dat\u001b[39m\u001b[38;5;124m'\u001b[39m, \u001b[38;5;124m'\u001b[39m\u001b[38;5;124mr\u001b[39m\u001b[38;5;124m'\u001b[39m) \u001b[38;5;28;01mas\u001b[39;00m usersDat:\n",
      "\u001b[1;31mNameError\u001b[0m: name 'path' is not defined"
     ]
    }
   ],
   "source": [
    "# elaborazione del file .dat relativo agli utenti\n",
    "usersCsv = open(path + 'users.csv', 'w')\n",
    "usersCsv.write('user_id,gender,age,occupation,zip_code\\n')\n",
    "\n",
    "with open(path + 'users.dat', 'r') as usersDat:\n",
    "    for entry in usersDat:\n",
    "        entry = entry.split(\"::\")\n",
    "        usersCsv.write(entry[0] + ',')\n",
    "        usersCsv.write(entry[1] + ',')\n",
    "        usersCsv.write(entry[2] + ',')\n",
    "        usersCsv.write(entry[3] + ',')\n",
    "        usersCsv.write(entry[4])\n",
    "        \n",
    "usersDat.close()"
   ]
  },
  {
   "cell_type": "code",
   "execution_count": 5,
   "id": "7fd81b90",
   "metadata": {},
   "outputs": [],
   "source": [
    "path = 'C:/Users/glamo/Desktop/Repository/RecSys-Algorithms-Evaluation/Dataset/'\n",
    "# elaborazione del file .dat relativo ai ratings\n",
    "ratingsCsv = open(path + 'ratings.csv', 'w')\n",
    "ratingsCsv.write(\"user_id,movie_id,rating,timestamp\\n\")\n",
    "\n",
    "with open(path + 'ratings.dat', 'r') as ratingsDat:\n",
    "    for entry in ratingsDat:\n",
    "        entry = entry.split(\"::\")\n",
    "        ratingsCsv.write(entry[0] + ',')\n",
    "        ratingsCsv.write(entry[1] + ',')\n",
    "        ratingsCsv.write(entry[2] + ',')\n",
    "        ratingsCsv.write(entry[3])\n",
    "        \n",
    "ratingsDat.close()"
   ]
  },
  {
   "cell_type": "code",
   "execution_count": 7,
   "id": "73bc815d",
   "metadata": {},
   "outputs": [
    {
     "name": "stderr",
     "output_type": "stream",
     "text": [
      "\u001b[39mINFO\u001b[0m - **********   Processing field: title   *********** (content_analyzer_main.py:188)\n",
      "\u001b[39mINFO\u001b[0m - Computing tf-idf with SkLearnTfIdf (tf_idf.py:92)\n",
      "Serializing contents:  100%|██████████████████████████████████████████████████████████████████| 3883/3883 [00:17<00:00]\n"
     ]
    }
   ],
   "source": [
    "# rappresentazione items con TF-IDF\n",
    "movies_ca_config = ca.ItemAnalyzerConfig(\n",
    "    source = ca.CSVFile(path + 'movies.csv'),\n",
    "    id = 'id',\n",
    "    output_directory = 'C:/Users/glamo/Desktop/Repository/RecSys-Algorithms-Evaluation/movies_codified/'\n",
    ")\n",
    "\n",
    "movies_ca_config.add_single_config(\n",
    "    'title',\n",
    "    ca.FieldConfig(ca.SkLearnTfIdf(),\n",
    "    preprocessing = ca.NLTK(stopwords_removal=True, lemmatization=True),\n",
    "    id = 'tfidf'              \n",
    "    )\n",
    ")\n",
    "\n",
    "ca.ContentAnalyzer(config = movies_ca_config).fit()"
   ]
  },
  {
   "cell_type": "code",
   "execution_count": null,
   "id": "608a34ff",
   "metadata": {},
   "outputs": [],
   "source": []
  }
 ],
 "metadata": {
  "kernelspec": {
   "display_name": "Python 3 (ipykernel)",
   "language": "python",
   "name": "python3"
  },
  "language_info": {
   "codemirror_mode": {
    "name": "ipython",
    "version": 3
   },
   "file_extension": ".py",
   "mimetype": "text/x-python",
   "name": "python",
   "nbconvert_exporter": "python",
   "pygments_lexer": "ipython3",
   "version": "3.9.12"
  }
 },
 "nbformat": 4,
 "nbformat_minor": 5
}
