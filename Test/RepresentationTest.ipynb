{
 "cells": [
  {
   "cell_type": "code",
   "execution_count": 1,
   "id": "ddd75b5a",
   "metadata": {},
   "outputs": [
    {
     "name": "stderr",
     "output_type": "stream",
     "text": [
      "[nltk_data] Downloading package punkt to\n",
      "[nltk_data]     C:\\Users\\glamo\\AppData\\Roaming\\nltk_data...\n",
      "[nltk_data]   Package punkt is already up-to-date!\n"
     ]
    }
   ],
   "source": [
    "import pandas as pd\n",
    "import csv\n",
    "import re\n",
    "\n",
    "# correzione dell'ordine di stampa\n",
    "import functools\n",
    "from operator import rshift\n",
    "print = functools.partial(print, flush=True)\n",
    "\n",
    "# import dei moduli per Content Analyzer, Recommender System e Evaluation come librerie\n",
    "from clayrs import content_analyzer as ca\n",
    "from clayrs import recsys as rs\n",
    "from clayrs import evaluation as eva"
   ]
  },
  {
   "cell_type": "code",
   "execution_count": 2,
   "id": "735e55f0",
   "metadata": {
    "scrolled": false
   },
   "outputs": [],
   "source": [
    "# elaborazione del file .dat relativo agli items\n",
    "path = 'C:/Users/glamo/Desktop/Repository/RecSys-Algorithms-Evaluation/Dataset/Movielens 1M/'\n",
    "\n",
    "moviesCsv = open(path + 'movies.csv', 'w')\n",
    "moviesCsv.write(\"id,title,year,genres\\n\")\n",
    "\n",
    "with open(path + 'movies.dat', 'r') as moviesDat:\n",
    "    for entry in moviesDat:\n",
    "        entry = entry.split(\"::\")\n",
    "        moviesCsv.write(entry[0] + ',')\n",
    "        year = re.findall('\\d\\d\\d\\d', entry[1])\n",
    "        moviesCsv.write('\"' + re.split(' \\(\\d\\d\\d\\d\\)', entry[1])[0] + '\"' + ',')\n",
    "        moviesCsv.write(year[0] + ',')\n",
    "        entry[2] = re.sub('\\|', ',', entry[2])\n",
    "        entry[2] = re.sub('\\n', '', entry[2])\n",
    "        moviesCsv.write('\"' + entry[2] + '\"' + '\\n')\n",
    "        \n",
    "moviesDat.close()"
   ]
  },
  {
   "cell_type": "code",
   "execution_count": 3,
   "id": "4d394581",
   "metadata": {},
   "outputs": [],
   "source": [
    "# elaborazione del file .dat relativo agli utenti\n",
    "usersCsv = open(path + 'users.csv', 'w')\n",
    "usersCsv.write('user_id,gender,age,occupation,zip_code\\n')\n",
    "\n",
    "with open(path + 'users.dat', 'r') as usersDat:\n",
    "    for entry in usersDat:\n",
    "        entry = entry.split(\"::\")\n",
    "        usersCsv.write(entry[0] + ',')\n",
    "        usersCsv.write(entry[1] + ',')\n",
    "        usersCsv.write(entry[2] + ',')\n",
    "        usersCsv.write(entry[3] + ',')\n",
    "        usersCsv.write(entry[4])\n",
    "        \n",
    "usersDat.close()"
   ]
  },
  {
   "cell_type": "code",
   "execution_count": 4,
   "id": "7fd81b90",
   "metadata": {},
   "outputs": [
    {
     "ename": "FileNotFoundError",
     "evalue": "[Errno 2] No such file or directory: 'C:/Users/glamo/Desktop/Repository/RecSys-Algorithms-Evaluation/Dataset/ratings.dat'",
     "output_type": "error",
     "traceback": [
      "\u001b[1;31m---------------------------------------------------------------------------\u001b[0m",
      "\u001b[1;31mFileNotFoundError\u001b[0m                         Traceback (most recent call last)",
      "Input \u001b[1;32mIn [4]\u001b[0m, in \u001b[0;36m<cell line: 6>\u001b[1;34m()\u001b[0m\n\u001b[0;32m      3\u001b[0m ratingsCsv \u001b[38;5;241m=\u001b[39m \u001b[38;5;28mopen\u001b[39m(path \u001b[38;5;241m+\u001b[39m \u001b[38;5;124m'\u001b[39m\u001b[38;5;124mratings.csv\u001b[39m\u001b[38;5;124m'\u001b[39m, \u001b[38;5;124m'\u001b[39m\u001b[38;5;124mw\u001b[39m\u001b[38;5;124m'\u001b[39m)\n\u001b[0;32m      4\u001b[0m ratingsCsv\u001b[38;5;241m.\u001b[39mwrite(\u001b[38;5;124m\"\u001b[39m\u001b[38;5;124muser_id,movie_id,rating,timestamp\u001b[39m\u001b[38;5;130;01m\\n\u001b[39;00m\u001b[38;5;124m\"\u001b[39m)\n\u001b[1;32m----> 6\u001b[0m \u001b[38;5;28;01mwith\u001b[39;00m \u001b[38;5;28;43mopen\u001b[39;49m\u001b[43m(\u001b[49m\u001b[43mpath\u001b[49m\u001b[43m \u001b[49m\u001b[38;5;241;43m+\u001b[39;49m\u001b[43m \u001b[49m\u001b[38;5;124;43m'\u001b[39;49m\u001b[38;5;124;43mratings.dat\u001b[39;49m\u001b[38;5;124;43m'\u001b[39;49m\u001b[43m,\u001b[49m\u001b[43m \u001b[49m\u001b[38;5;124;43m'\u001b[39;49m\u001b[38;5;124;43mr\u001b[39;49m\u001b[38;5;124;43m'\u001b[39;49m\u001b[43m)\u001b[49m \u001b[38;5;28;01mas\u001b[39;00m ratingsDat:\n\u001b[0;32m      7\u001b[0m     \u001b[38;5;28;01mfor\u001b[39;00m entry \u001b[38;5;129;01min\u001b[39;00m ratingsDat:\n\u001b[0;32m      8\u001b[0m         entry \u001b[38;5;241m=\u001b[39m entry\u001b[38;5;241m.\u001b[39msplit(\u001b[38;5;124m\"\u001b[39m\u001b[38;5;124m::\u001b[39m\u001b[38;5;124m\"\u001b[39m)\n",
      "\u001b[1;31mFileNotFoundError\u001b[0m: [Errno 2] No such file or directory: 'C:/Users/glamo/Desktop/Repository/RecSys-Algorithms-Evaluation/Dataset/ratings.dat'"
     ]
    }
   ],
   "source": [
    "path = 'C:/Users/glamo/Desktop/Repository/RecSys-Algorithms-Evaluation/Dataset/'\n",
    "# elaborazione del file .dat relativo ai ratings\n",
    "ratingsCsv = open(path + 'ratings.csv', 'w')\n",
    "ratingsCsv.write(\"user_id,movie_id,rating,timestamp\\n\")\n",
    "\n",
    "with open(path + 'ratings.dat', 'r') as ratingsDat:\n",
    "    for entry in ratingsDat:\n",
    "        entry = entry.split(\"::\")\n",
    "        ratingsCsv.write(entry[0] + ',')\n",
    "        ratingsCsv.write(entry[1] + ',')\n",
    "        ratingsCsv.write(entry[2] + ',')\n",
    "        ratingsCsv.write(entry[3])\n",
    "        \n",
    "ratingsDat.close()\n",
    "ratingsCsv.close()"
   ]
  },
  {
   "cell_type": "code",
   "execution_count": null,
   "id": "73bc815d",
   "metadata": {},
   "outputs": [],
   "source": [
    "# rappresentazione items con TF-IDF\n",
    "movies_ca_config = ca.ItemAnalyzerConfig(\n",
    "    source = ca.CSVFile(path + 'movies.csv'),\n",
    "    id = 'id',\n",
    "    output_directory = 'C:/Users/glamo/Desktop/Repository/RecSys-Algorithms-Evaluation/movies_codified/'\n",
    ")\n",
    "\n",
    "movies_ca_config.add_single_config(\n",
    "    'title',\n",
    "    ca.FieldConfig(ca.SkLearnTfIdf(),\n",
    "    preprocessing = ca.NLTK(stopwords_removal=True, lemmatization=True),\n",
    "    id = 'tfidf'              \n",
    "    )\n",
    ")\n",
    "\n",
    "ca.ContentAnalyzer(config = movies_ca_config).fit()"
   ]
  },
  {
   "cell_type": "code",
   "execution_count": null,
   "id": "cf0887a5",
   "metadata": {},
   "outputs": [],
   "source": [
    "# rappresentazioni multiple\n",
    "movies_multiple_config = ca.ItemAnalyzerConfig(\n",
    "    source = ca.CSVFile(path + 'movies.csv'),\n",
    "    id = 'id',\n",
    "    output_directory = 'C:/Users/glamo/Desktop/Repository/RecSys-Algorithms-Evaluation/mult_movies_codified/'\n",
    ")\n",
    "\n",
    "movies_multiple_config.add_multiple_config(\n",
    "    ( \n",
    "        'title',\n",
    "        ca.FieldConfig(ca.SkLearnTfIdf(),\n",
    "        preprocessing = ca.NLTK(stopwords_removal=True, lemmatization=True),\n",
    "        id = 'tfidf'              \n",
    "    ),\n",
    "    (\n",
    "        \n",
    "    )\n",
    "    \n",
    ")"
   ]
  },
  {
   "cell_type": "code",
   "execution_count": null,
   "id": "608a34ff",
   "metadata": {},
   "outputs": [],
   "source": [
    "# recommender system\n",
    "ratings = ca.Ratings(ca.CSVFile(path + 'ratings.csv'))\n",
    "print(ratings)"
   ]
  },
  {
   "cell_type": "code",
   "execution_count": null,
   "id": "b6338371",
   "metadata": {},
   "outputs": [],
   "source": [
    "centroid_vec = rs.CentroidVector(\n",
    "    {'title': 'tfidf'},\n",
    "    similarity = rs.CosineSimilarity()\n",
    ")"
   ]
  },
  {
   "cell_type": "code",
   "execution_count": null,
   "id": "84b03a3c",
   "metadata": {},
   "outputs": [],
   "source": [
    "train_list, test_list = rs.KFoldPartitioning(n_splits=2).split_all(ratings)\n",
    "first_train = train_list[0]\n",
    "\n",
    "cbrs = rs.ContentBasedRS(centroid_vec, first_train, 'C:/Users/glamo/Desktop/Repository/RecSys-Algorithms-Evaluation/movies_codified/')"
   ]
  },
  {
   "cell_type": "code",
   "execution_count": null,
   "id": "216d4bee",
   "metadata": {},
   "outputs": [],
   "source": [
    "first_test_set = test_list[0]\n",
    "\n",
    "rank = cbrs.fit_rank(first_test_set, user_id_list=['8', '2', '1'], n_recs=3)"
   ]
  },
  {
   "cell_type": "code",
   "execution_count": null,
   "id": "cc8c9b2c",
   "metadata": {},
   "outputs": [],
   "source": [
    "print(rank)"
   ]
  },
  {
   "cell_type": "code",
   "execution_count": null,
   "id": "c2bc8a04",
   "metadata": {},
   "outputs": [],
   "source": [
    "result_list = []\n",
    "\n",
    "for train_set, test_set in zip(train_list, test_list):\n",
    "    cbrs = rs.ContentBasedRS(centroid_vec, train_set, 'C:/Users/glamo/Desktop/Repository/RecSys-Algorithms-Evaluation/movies_codified/')\n",
    "    rank_to_append = cbrs.fit_rank(test_set)\n",
    "    result_list.append(rank_to_append)"
   ]
  },
  {
   "cell_type": "code",
   "execution_count": null,
   "id": "38183c5b",
   "metadata": {},
   "outputs": [],
   "source": []
  }
 ],
 "metadata": {
  "kernelspec": {
   "display_name": "Python 3 (ipykernel)",
   "language": "python",
   "name": "python3"
  },
  "language_info": {
   "codemirror_mode": {
    "name": "ipython",
    "version": 3
   },
   "file_extension": ".py",
   "mimetype": "text/x-python",
   "name": "python",
   "nbconvert_exporter": "python",
   "pygments_lexer": "ipython3",
   "version": "3.9.12"
  }
 },
 "nbformat": 4,
 "nbformat_minor": 5
}
