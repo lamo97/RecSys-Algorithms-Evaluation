{
 "cells": [
  {
   "cell_type": "code",
   "execution_count": 1,
   "id": "3df3f349",
   "metadata": {},
   "outputs": [
    {
     "name": "stderr",
     "output_type": "stream",
     "text": [
      "[nltk_data] Downloading package punkt to\n",
      "[nltk_data]     C:\\Users\\glamo\\AppData\\Roaming\\nltk_data...\n",
      "[nltk_data]   Package punkt is already up-to-date!\n"
     ]
    }
   ],
   "source": [
    "import pandas as pd\n",
    "import csv\n",
    "import re\n",
    "\n",
    "# correzione dell'ordine di stampa\n",
    "import functools\n",
    "from operator import rshift\n",
    "print = functools.partial(print, flush=True)\n",
    "\n",
    "# import dei moduli per Content Analyzer, Recommender System e Evaluation come librerie\n",
    "from clayrs import content_analyzer as ca\n",
    "from clayrs import recsys as rs\n",
    "from clayrs import evaluation as eva"
   ]
  },
  {
   "cell_type": "code",
   "execution_count": 2,
   "id": "1413fd93",
   "metadata": {
    "scrolled": false
   },
   "outputs": [],
   "source": [
    "# elaborazione del file .dat relativo agli items\n",
    "path = 'C:/Users/glamo/Desktop/Repository/RecSys-Algorithms-Evaluation/Dataset/'\n",
    "\n",
    "moviesCsv = open(path + 'movies.csv', 'w')\n",
    "moviesCsv.write(\"id,title,year,genres\\n\")\n",
    "\n",
    "with open(path + 'movies.dat', 'r') as moviesDat:\n",
    "    for entry in moviesDat:\n",
    "        entry = entry.split(\"::\")\n",
    "        moviesCsv.write(entry[0] + ',')\n",
    "        year = re.findall('\\d\\d\\d\\d', entry[1])\n",
    "        moviesCsv.write('\"' + re.split(' \\(\\d\\d\\d\\d\\)', entry[1])[0] + '\"' + ',')\n",
    "        moviesCsv.write(year[0] + ',')\n",
    "        entry[2] = re.sub('\\|', ',', entry[2])\n",
    "        entry[2] = re.sub('\\n', '', entry[2])\n",
    "        moviesCsv.write('\"' + entry[2] + '\"' + '\\n')\n",
    "        \n",
    "moviesDat.close()"
   ]
  },
  {
   "cell_type": "code",
   "execution_count": 3,
   "id": "e4243faf",
   "metadata": {},
   "outputs": [],
   "source": [
    "# elaborazione del file .dat relativo agli utenti\n",
    "usersCsv = open(path + 'users.csv', 'w')\n",
    "usersCsv.write('user_id,gender,age,occupation,zip_code\\n')\n",
    "\n",
    "with open(path + 'users.dat', 'r') as usersDat:\n",
    "    for entry in usersDat:\n",
    "        entry = entry.split(\"::\")\n",
    "        usersCsv.write(entry[0] + ',')\n",
    "        usersCsv.write(entry[1] + ',')\n",
    "        usersCsv.write(entry[2] + ',')\n",
    "        usersCsv.write(entry[3] + ',')\n",
    "        usersCsv.write(entry[4])\n",
    "        \n",
    "usersDat.close()"
   ]
  },
  {
   "cell_type": "code",
   "execution_count": 4,
   "id": "9a3ae89c",
   "metadata": {},
   "outputs": [],
   "source": [
    "# elaborazione del file .dat relativo ai ratings\n",
    "ratingsCsv = open(path + 'ratings.csv', 'w')\n",
    "ratingsCsv.write(\"user_id,movie_id,rating,timestamp\\n\")\n",
    "\n",
    "with open(path + 'ratings.dat', 'r') as ratingsDat:\n",
    "    for entry in ratingsDat:\n",
    "        entry = entry.split(\"::\")\n",
    "        ratingsCsv.write(entry[0] + ',')\n",
    "        ratingsCsv.write(entry[1] + ',')\n",
    "        ratingsCsv.write(entry[2] + ',')\n",
    "        ratingsCsv.write(entry[3])\n",
    "        \n",
    "ratingsDat.close()"
   ]
  }
 ],
 "metadata": {
  "kernelspec": {
   "display_name": "Python 3 (ipykernel)",
   "language": "python",
   "name": "python3"
  },
  "language_info": {
   "codemirror_mode": {
    "name": "ipython",
    "version": 3
   },
   "file_extension": ".py",
   "mimetype": "text/x-python",
   "name": "python",
   "nbconvert_exporter": "python",
   "pygments_lexer": "ipython3",
   "version": "3.9.12"
  }
 },
 "nbformat": 4,
 "nbformat_minor": 5
}
