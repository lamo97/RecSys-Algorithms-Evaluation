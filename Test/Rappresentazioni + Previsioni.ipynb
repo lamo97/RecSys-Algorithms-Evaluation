{
 "cells": [
  {
   "cell_type": "code",
   "execution_count": 1,
   "id": "86dfde6f",
   "metadata": {},
   "outputs": [
    {
     "name": "stderr",
     "output_type": "stream",
     "text": [
      "[nltk_data] Downloading package punkt to\n",
      "[nltk_data]     C:\\Users\\glamo\\AppData\\Roaming\\nltk_data...\n",
      "[nltk_data]   Package punkt is already up-to-date!\n"
     ]
    }
   ],
   "source": [
    "import pandas as pd\n",
    "import csv\n",
    "\n",
    "# correzione dell'ordine di stampa\n",
    "import functools\n",
    "from operator import rshift\n",
    "print = functools.partial(print, flush=True)\n",
    "\n",
    "# import dei moduli per Content Analyzer, Recommender System e Evaluation come librerie\n",
    "from clayrs import content_analyzer as ca\n",
    "from clayrs import recsys as rs\n",
    "from clayrs import evaluation as eva"
   ]
  },
  {
   "cell_type": "code",
   "execution_count": 2,
   "id": "5d45c8be",
   "metadata": {},
   "outputs": [],
   "source": [
    "# path del dataset\n",
    "path = 'C:/Users/glamo/Desktop/Repository/RecSys-Algorithms-Evaluation/Dataset/Movielens 100k/'\n",
    "\n",
    "serialized_items_path = 'C:/Users/glamo/Desktop/Repository/RecSys-Algorithms-Evaluation/Test/movies_codified/'\n",
    "\n",
    "ranks_path = 'C:/Users/glamo/Desktop/Repository/RecSys-Algorithms-Evaluation/Test/Ranks/'\n",
    "\n",
    "# apertura del file contenente i film\n",
    "items = open(path + 'items_info.json')\n",
    "\n",
    "# apertura del file con i ratings\n",
    "ratings = open(path + 'ratings.csv')"
   ]
  },
  {
   "cell_type": "code",
   "execution_count": 4,
   "id": "4d87f69b",
   "metadata": {},
   "outputs": [],
   "source": [
    "# configurazione del content analyzer\n",
    "ca_config = ca.ItemAnalyzerConfig(\n",
    "    source = ca.JSONFile(path + 'items_info.json'),\n",
    "    id = 'movielens_id',\n",
    "    output_directory = serialized_items_path\n",
    ")"
   ]
  },
  {
   "cell_type": "code",
   "execution_count": 5,
   "id": "73d9ea4c",
   "metadata": {},
   "outputs": [
    {
     "name": "stderr",
     "output_type": "stream",
     "text": [
      "[nltk_data] Downloading package punkt to\n",
      "[nltk_data]     C:\\Users\\glamo\\AppData\\Roaming\\nltk_data...\n",
      "[nltk_data]   Package punkt is already up-to-date!\n",
      "[nltk_data] Downloading package averaged_perceptron_tagger to\n",
      "[nltk_data]     C:\\Users\\glamo\\AppData\\Roaming\\nltk_data...\n",
      "[nltk_data]   Package averaged_perceptron_tagger is already up-to-\n",
      "[nltk_data]       date!\n",
      "[nltk_data] Downloading package wordnet to\n",
      "[nltk_data]     C:\\Users\\glamo\\AppData\\Roaming\\nltk_data...\n",
      "[nltk_data]   Package wordnet is already up-to-date!\n",
      "[nltk_data] Downloading package maxent_ne_chunker to\n",
      "[nltk_data]     C:\\Users\\glamo\\AppData\\Roaming\\nltk_data...\n",
      "[nltk_data]   Package maxent_ne_chunker is already up-to-date!\n",
      "[nltk_data] Downloading package words to\n",
      "[nltk_data]     C:\\Users\\glamo\\AppData\\Roaming\\nltk_data...\n",
      "[nltk_data]   Package words is already up-to-date!\n",
      "[nltk_data] Downloading package omw-1.4 to\n",
      "[nltk_data]     C:\\Users\\glamo\\AppData\\Roaming\\nltk_data...\n",
      "[nltk_data]   Package omw-1.4 is already up-to-date!\n"
     ]
    }
   ],
   "source": [
    "# inserimento delle rappresentazioni multiple\n",
    "ca_config.add_single_config(\n",
    "    'plot',\n",
    "        ca.FieldConfig(ca.DocumentEmbeddingTechnique(ca.GensimLatentSemanticAnalysis()),\n",
    "                       preprocessing=ca.NLTK(stopwords_removal=True, lemmatization=True),\n",
    "                       id='GensimLatentSemanticAnalysis')\n",
    ")"
   ]
  },
  {
   "cell_type": "code",
   "execution_count": 6,
   "id": "c35fb73d",
   "metadata": {},
   "outputs": [
    {
     "name": "stderr",
     "output_type": "stream",
     "text": [
      "\u001b[39mINFO\u001b[0m - ***********   Processing field: plot   *********** (content_analyzer_main.py:188)\n",
      "\u001b[33mWARNING\u001b[0m - The model None wasn't found, so it will be created and trained now (embedding_technique.py:91)\n",
      "\u001b[33mWARNING\u001b[0m - The model will be trained on the plot field and the data will be processed with [< NLTK: stopwords_removal = True;stemming = False;lemmatization = True;named_entity_recognition = False;strip_multiple_whitespaces = True;url_tagging = Falsepunctuation_removal = False>] (embedding_technique.py:93)\n",
      "Preprocessing plot for all contents:  100%|███████████████████████████████████████████████████| 1682/1682 [00:22<00:00]\n",
      "\u001b[39mINFO\u001b[0m - Fitting model with extracted corpus... (embedding_learner.py:98)\n",
      "Processing and producing contents with GensimLatentSemanticAnalysis:  100%|███████████████████| 1682/1682 [00:21<00:00]\n",
      "Serializing contents:  100%|██████████████████████████████████████████████████████████████████| 1682/1682 [00:06<00:00]\n"
     ]
    }
   ],
   "source": [
    "# serializzazione degli items\n",
    "ca.ContentAnalyzer(config = ca_config).fit()"
   ]
  },
  {
   "cell_type": "code",
   "execution_count": 7,
   "id": "e43b292a",
   "metadata": {},
   "outputs": [],
   "source": [
    "def predict(algorithm, training_set, test_set, serialized_items_path):\n",
    "    cbrs = rs.ContentBasedRS(algorithm, training_set, serialized_items_path)\n",
    "    result_ranking = cbrs.fit_rank(test_set, n_recs = 10)\n",
    "    \n",
    "    return result_ranking"
   ]
  },
  {
   "cell_type": "code",
   "execution_count": 9,
   "id": "3a843289",
   "metadata": {},
   "outputs": [
    {
     "name": "stderr",
     "output_type": "stream",
     "text": [
      "Importing ratings:  100%|█████████████████████████████████████████████████████████████████| 100000/100000 [00:00<00:00]\n",
      "Performing HoldOutPartitioningTechnique:  100%|█████████████████████████████████████████████████| 943/943 [00:00<00:00]\n"
     ]
    }
   ],
   "source": [
    "# caricamento ratings\n",
    "ratings = ca.Ratings(ca.CSVFile(path + 'ratings.csv'))\n",
    "\n",
    "# split del dataset in training e test list\n",
    "train_list, test_list = rs.HoldOutPartitioning(train_set_size=0.8).split_all(ratings)\n",
    "\n",
    "# l'Hold Out restituisce un singolo training set e test set\n",
    "training_set = train_list[0]\n",
    "test_set = test_list[0]"
   ]
  },
  {
   "cell_type": "code",
   "execution_count": 10,
   "id": "188a8aa6",
   "metadata": {},
   "outputs": [
    {
     "name": "stderr",
     "output_type": "stream",
     "text": [
      "\u001b[39mINFO\u001b[0m - Don't worry if it looks stuck at first (recsys.py:349)\n",
      "\u001b[39mINFO\u001b[0m - First iterations will stabilize the estimated remaining time (recsys.py:350)\n",
      "Computing fit_rank for user 870:  100%|█████████████████████████████████████████████████████████| 943/943 [00:05<00:00]\n"
     ]
    }
   ],
   "source": [
    "# Recommender: Centroid Vector Algorithm\n",
    "centroid_vector = rs.CentroidVector(\n",
    "    {'plot': 'GensimLatentSemanticAnalysis'},\n",
    "    similarity = rs.CosineSimilarity()\n",
    ")\n",
    "\n",
    "ranking = predict(centroid_vector, training_set, test_set, serialized_items_path)\n",
    "ranking.to_csv(ranks_path, 'GensimLatentSemanticAnalysis + Centroid Vector')"
   ]
  },
  {
   "cell_type": "code",
   "execution_count": 11,
   "id": "796ac828",
   "metadata": {},
   "outputs": [
    {
     "name": "stderr",
     "output_type": "stream",
     "text": [
      "\u001b[39mINFO\u001b[0m - Don't worry if it looks stuck at first (recsys.py:349)\n",
      "\u001b[39mINFO\u001b[0m - First iterations will stabilize the estimated remaining time (recsys.py:350)\n",
      "Computing fit_rank for user 870:  100%|█████████████████████████████████████████████████████████| 943/943 [00:10<00:00]\n"
     ]
    }
   ],
   "source": [
    "# Recommender: Logistic Regression\n",
    "\n",
    "logistic_regression = rs.ClassifierRecommender(\n",
    "    {'plot': 'GensimLatentSemanticAnalysis'},\n",
    "    rs.SkLogisticRegression()\n",
    ")\n",
    "\n",
    "rankings = predict(logistic_regression, training_set, test_set, serialized_items_path)\n",
    "ranking.to_csv(ranks_path, 'GensimLatentSemanticAnalysis + Logistic Regression')"
   ]
  },
  {
   "cell_type": "code",
   "execution_count": 22,
   "id": "9c16292b",
   "metadata": {},
   "outputs": [],
   "source": [
    "def evaluate(test_set, rankings, ratings, cutoff, filename):\n",
    "    user_groups = {'Blockbuster': 0.2, 'Niche': 0.2, 'Diverse': 0.6}\n",
    "    catalog = set(ratings.item_id_column)\n",
    "    eval_path = 'C:/Users/glamo/Desktop/Repository/RecSys-Algorithms-Evaluation/Test/Eval/'\n",
    "    \n",
    "    em = eva.EvalModel(\n",
    "        rankings,\n",
    "        test_set,\n",
    "        metric_list=[\n",
    "            eva.PrecisionAtK(k=cutoff),\n",
    "            eva.RecallAtK(k=cutoff),\n",
    "            eva.FMeasureAtK(k=cutoff),\n",
    "            eva.NDCGAtK(k=cutoff),\n",
    "            eva.MRRAtK(k=cutoff),\n",
    "            eva.GiniIndex(top_n=cutoff),\n",
    "            eva.CatalogCoverage(catalog, top_n=cutoff),\n",
    "            eva.DeltaGap(user_groups, top_n=cutoff)\n",
    "        ]\n",
    "    )\n",
    "    \n",
    "    sys_result, users_result = em.fit()\n",
    "    sys_result.to_csv(eval_path + 'SYS - ' + filename)\n",
    "    users_result.to_csv(eval_path + 'SYS - ' + filename)"
   ]
  },
  {
   "cell_type": "code",
   "execution_count": 24,
   "id": "4349d78e",
   "metadata": {},
   "outputs": [
    {
     "name": "stderr",
     "output_type": "stream",
     "text": [
      "Importing ratings:  100%|█████████████████████████████████████████████████████████████████████| 8134/8134 [00:00<00:00]"
     ]
    },
    {
     "name": "stdout",
     "output_type": "stream",
     "text": [
      "1\n"
     ]
    },
    {
     "name": "stderr",
     "output_type": "stream",
     "text": [
      "\n",
      "\u001b[39mINFO\u001b[0m - Performing evaluation on metrics chosen (eval_model.py:89)\n",
      "Performing DeltaGap - Top 10:  100%|████████████████████████████████████████████████████████████████| 8/8 [00:00<00:00]\n",
      "Importing ratings:  100%|█████████████████████████████████████████████████████████████████████| 8134/8134 [00:00<00:00]"
     ]
    },
    {
     "name": "stdout",
     "output_type": "stream",
     "text": [
      "1\n"
     ]
    },
    {
     "name": "stderr",
     "output_type": "stream",
     "text": [
      "\n",
      "\u001b[39mINFO\u001b[0m - Performing evaluation on metrics chosen (eval_model.py:89)\n",
      "Performing DeltaGap - Top 10:  100%|████████████████████████████████████████████████████████████████| 8/8 [00:00<00:00]\n",
      "Importing ratings:  100%|█████████████████████████████████████████████████████████████████████| 8134/8134 [00:00<00:00]"
     ]
    },
    {
     "name": "stdout",
     "output_type": "stream",
     "text": [
      "1\n"
     ]
    },
    {
     "name": "stderr",
     "output_type": "stream",
     "text": [
      "\n",
      "\u001b[39mINFO\u001b[0m - Performing evaluation on metrics chosen (eval_model.py:89)\n",
      "Performing DeltaGap - Top 10:  100%|████████████████████████████████████████████████████████████████| 8/8 [00:00<00:00]\n",
      "Importing ratings:  100%|█████████████████████████████████████████████████████████████████████| 8134/8134 [00:00<00:00]"
     ]
    },
    {
     "name": "stdout",
     "output_type": "stream",
     "text": [
      "1\n"
     ]
    },
    {
     "name": "stderr",
     "output_type": "stream",
     "text": [
      "\n",
      "\u001b[39mINFO\u001b[0m - Performing evaluation on metrics chosen (eval_model.py:89)\n",
      "Performing DeltaGap - Top 10:  100%|████████████████████████████████████████████████████████████████| 8/8 [00:00<00:00]\n"
     ]
    }
   ],
   "source": [
    "import os\n",
    "import pandas as pd\n",
    "\n",
    "for filename in os.listdir(ranks_path):\n",
    "    rank_list = []\n",
    "    rank_list.append(ca.Rank(ca.CSVFile(ranks_path + filename)))\n",
    "    #print(len(ranks))\n",
    "    print(len(test_list))\n",
    "    evaluate(test_list, rank_list, ratings, 10, filename)"
   ]
  },
  {
   "cell_type": "code",
   "execution_count": 32,
   "id": "39d9343c",
   "metadata": {},
   "outputs": [
    {
     "ename": "KeyError",
     "evalue": "\"None of ['Systems evaluated'] are in the columns\"",
     "output_type": "error",
     "traceback": [
      "\u001b[1;31m---------------------------------------------------------------------------\u001b[0m",
      "\u001b[1;31mKeyError\u001b[0m                                  Traceback (most recent call last)",
      "Input \u001b[1;32mIn [32]\u001b[0m, in \u001b[0;36m<cell line: 11>\u001b[1;34m()\u001b[0m\n\u001b[0;32m      7\u001b[0m result_ttest \u001b[38;5;241m=\u001b[39m eva\u001b[38;5;241m.\u001b[39mTtest()\u001b[38;5;241m.\u001b[39mperform(rank_list)\n\u001b[0;32m      8\u001b[0m result_ttest\u001b[38;5;241m.\u001b[39mto_csv(eval_path \u001b[38;5;241m+\u001b[39m \u001b[38;5;124m\"\u001b[39m\u001b[38;5;124mT-Test.csv\u001b[39m\u001b[38;5;124m\"\u001b[39m)\n\u001b[1;32m---> 11\u001b[0m result_wilcoxon \u001b[38;5;241m=\u001b[39m \u001b[43meva\u001b[49m\u001b[38;5;241;43m.\u001b[39;49m\u001b[43mWilcoxon\u001b[49m\u001b[43m(\u001b[49m\u001b[43m)\u001b[49m\u001b[38;5;241;43m.\u001b[39;49m\u001b[43mperform\u001b[49m\u001b[43m(\u001b[49m\u001b[43mrank_list\u001b[49m\u001b[43m)\u001b[49m\n\u001b[0;32m     13\u001b[0m \u001b[38;5;28mprint\u001b[39m(result_wilcoxon)\n\u001b[0;32m     14\u001b[0m result_wilcoxon\u001b[38;5;241m.\u001b[39mto_csv(eval_path \u001b[38;5;241m+\u001b[39m \u001b[38;5;124m\"\u001b[39m\u001b[38;5;124mWilcoxon.csv\u001b[39m\u001b[38;5;124m\"\u001b[39m)\n",
      "File \u001b[1;32m~\\anaconda3\\lib\\site-packages\\clayrs\\evaluation\\statistical_test.py:71\u001b[0m, in \u001b[0;36mPairedTest.perform\u001b[1;34m(self, df_list)\u001b[0m\n\u001b[0;32m     67\u001b[0m             final_result[metric]\u001b[38;5;241m.\u001b[39mappend(single_metric_result)\n\u001b[0;32m     69\u001b[0m     n_system_evaluated \u001b[38;5;241m+\u001b[39m\u001b[38;5;241m=\u001b[39m \u001b[38;5;241m1\u001b[39m\n\u001b[1;32m---> 71\u001b[0m \u001b[38;5;28;01mreturn\u001b[39;00m \u001b[43mpd\u001b[49m\u001b[38;5;241;43m.\u001b[39;49m\u001b[43mDataFrame\u001b[49m\u001b[43m(\u001b[49m\u001b[43mfinal_result\u001b[49m\u001b[43m)\u001b[49m\u001b[38;5;241;43m.\u001b[39;49m\u001b[43mset_index\u001b[49m\u001b[43m(\u001b[49m\u001b[38;5;124;43m\"\u001b[39;49m\u001b[38;5;124;43mSystems evaluated\u001b[39;49m\u001b[38;5;124;43m\"\u001b[39;49m\u001b[43m)\u001b[49m\n",
      "File \u001b[1;32m~\\anaconda3\\lib\\site-packages\\pandas\\core\\frame.py:4727\u001b[0m, in \u001b[0;36mDataFrame.set_index\u001b[1;34m(self, keys, drop, append, inplace, verify_integrity)\u001b[0m\n\u001b[0;32m   4724\u001b[0m                 missing\u001b[38;5;241m.\u001b[39mappend(col)\n\u001b[0;32m   4726\u001b[0m \u001b[38;5;28;01mif\u001b[39;00m missing:\n\u001b[1;32m-> 4727\u001b[0m     \u001b[38;5;28;01mraise\u001b[39;00m \u001b[38;5;167;01mKeyError\u001b[39;00m(\u001b[38;5;124mf\u001b[39m\u001b[38;5;124m\"\u001b[39m\u001b[38;5;124mNone of \u001b[39m\u001b[38;5;132;01m{\u001b[39;00mmissing\u001b[38;5;132;01m}\u001b[39;00m\u001b[38;5;124m are in the columns\u001b[39m\u001b[38;5;124m\"\u001b[39m)\n\u001b[0;32m   4729\u001b[0m \u001b[38;5;28;01mif\u001b[39;00m inplace:\n\u001b[0;32m   4730\u001b[0m     frame \u001b[38;5;241m=\u001b[39m \u001b[38;5;28mself\u001b[39m\n",
      "\u001b[1;31mKeyError\u001b[0m: \"None of ['Systems evaluated'] are in the columns\""
     ]
    }
   ],
   "source": [
    "# T-Test\n",
    "rank_list = []\n",
    "eval_path = 'C:/Users/glamo/Desktop/Repository/RecSys-Algorithms-Evaluation/Test/Eval/'\n",
    "for filename in os.listdir(ranks_path):\n",
    "    rank_list.append(pd.read_csv(ranks_path + filename))\n",
    "    \n",
    "result_ttest = eva.Ttest().perform(rank_list)\n",
    "result_ttest.to_csv(eval_path + \"T-Test.csv\")\n",
    "\n",
    "\n",
    "result_wilcoxon = eva.Wilcoxon().perform(rank_list)\n",
    "\n",
    "print(result_wilcoxon)\n",
    "result_wilcoxon.to_csv(eval_path + \"Wilcoxon.csv\")"
   ]
  },
  {
   "cell_type": "code",
   "execution_count": null,
   "id": "acc7dbef",
   "metadata": {},
   "outputs": [],
   "source": []
  }
 ],
 "metadata": {
  "kernelspec": {
   "display_name": "Python 3 (ipykernel)",
   "language": "python",
   "name": "python3"
  },
  "language_info": {
   "codemirror_mode": {
    "name": "ipython",
    "version": 3
   },
   "file_extension": ".py",
   "mimetype": "text/x-python",
   "name": "python",
   "nbconvert_exporter": "python",
   "pygments_lexer": "ipython3",
   "version": "3.9.12"
  }
 },
 "nbformat": 4,
 "nbformat_minor": 5
}
