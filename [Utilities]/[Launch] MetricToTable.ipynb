{
 "cells": [
  {
   "cell_type": "code",
   "execution_count": 1,
   "id": "1a1c2b12",
   "metadata": {},
   "outputs": [],
   "source": [
    "import pandas as pd\n",
    "import os\n",
    "import dataframe_image as dfi\n",
    "import metric_to_table as mtt\n",
    "\n",
    "metrics = ['Precision', 'Recall', 'MRR', 'NDCG', 'Gini', 'CatalogCoverage', 'F1']\n",
    "fields = [\n",
    "    'description',\n",
    "    'genres',\n",
    "    'tags',\n",
    "    'reviews',\n",
    "    'description,genres,tags',\n",
    "    'description,genres,reviews',\n",
    "    'description,tags,reviews',\n",
    "    'genres,tags,reviews',\n",
    "    'description,genres,tags,reviews'\n",
    "]"
   ]
  },
  {
   "cell_type": "code",
   "execution_count": 2,
   "id": "3378209d",
   "metadata": {},
   "outputs": [
    {
     "name": "stdout",
     "output_type": "stream",
     "text": [
      "Done!\n"
     ]
    }
   ],
   "source": [
    "# Groups metrics results (besides Delta GAP) found in CSVs in image files and/or CSV/Excel files (see metric_to_table.py)\n",
    "\n",
    "for field in fields:\n",
    "    for metric in metrics:\n",
    "        mtt.metric_to_table(metric, field)\n",
    "\n",
    "print('Done!')"
   ]
  },
  {
   "cell_type": "code",
   "execution_count": 2,
   "id": "fedaba1b",
   "metadata": {},
   "outputs": [
    {
     "name": "stdout",
     "output_type": "stream",
     "text": [
      "Done!\n"
     ]
    }
   ],
   "source": [
    "# Groups Delta GAP results found in CSVs in image files and/or CSV/Excel files (see metric_to_table.py)\n",
    "\n",
    "for field in fields:\n",
    "    for cutoff in [5,10]:\n",
    "        mtt.delta_to_table('DeltaGap', field, cutoff)\n",
    "\n",
    "print('Done!')"
   ]
  },
  {
   "cell_type": "code",
   "execution_count": 12,
   "id": "38384d25",
   "metadata": {},
   "outputs": [],
   "source": [
    "def checkFilename(filename, field, metric):\n",
    "    filename = filename.replace('[1M] ', '')\n",
    "    filename = filename.replace('.csv', '')\n",
    "    filename = filename.split(\" - \")\n",
    "    \n",
    "    return(filename[0] == metric and filename[1] == field)\n",
    "\n",
    "def pair_metrics(field, first_metric, second_metric):\n",
    "    path = 'D:/Repository/RecSys-Algorithms-Evaluation/'\n",
    "    result_path = f'{path}Metrics/CSVs/'\n",
    "    output_path = f'{path}Metrics/PNGs/'\n",
    "    \n",
    "    for filename in os.listdir(result_path):\n",
    "        if(checkFilename(filename, field, first_metric)):\n",
    "            df1 = pd.read_csv(result_path + filename)\n",
    "    \n",
    "    for filename in os.listdir(result_path):\n",
    "        if(checkFilename(filename, field, second_metric)):\n",
    "            df2 = pd.read_csv(result_path + filename)\n",
    "    \n",
    "    res = pd.concat([df1,df2])\n",
    "    \n",
    "    res = res.groupby(f'ID (Field: {field})').agg({\n",
    "        f'ID (Field: {field})': 'first',\n",
    "        f'{first_metric}@5 (TR)': sum,  \n",
    "        f'{first_metric}@10 (TR)': sum,\n",
    "        f'{second_metric}@5 (TR)': sum,  \n",
    "        f'{second_metric}@10 (TR)': sum,\n",
    "    })\n",
    "    \n",
    "    if metric == 'CatalogCoverage':\n",
    "        rounding = 1\n",
    "    else:\n",
    "        rounding = 3\n",
    "    \n",
    "    df_styled = res.style.background_gradient().set_properties(**{'text-align': 'left'})\n",
    "    df_styled.set_precision(rounding)\n",
    "    df_styled.hide_index()\n",
    "    \n",
    "    png_output = f'{output_path}{first_metric} - {second_metric}/[1M] {first_metric} + {second_metric} - {field}.png'\n",
    "    dfi.export(df_styled, png_output)\n",
    "\n",
    "pair_metrics('description', 'Precision', 'Recall')"
   ]
  }
 ],
 "metadata": {
  "kernelspec": {
   "display_name": "Python 3 (ipykernel)",
   "language": "python",
   "name": "python3"
  },
  "language_info": {
   "codemirror_mode": {
    "name": "ipython",
    "version": 3
   },
   "file_extension": ".py",
   "mimetype": "text/x-python",
   "name": "python",
   "nbconvert_exporter": "python",
   "pygments_lexer": "ipython3",
   "version": "3.9.12"
  }
 },
 "nbformat": 4,
 "nbformat_minor": 5
}
